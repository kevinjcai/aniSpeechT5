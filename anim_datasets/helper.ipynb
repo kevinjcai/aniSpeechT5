{
 "cells": [
  {
   "cell_type": "code",
   "execution_count": 1,
   "metadata": {},
   "outputs": [
    {
     "name": "stdout",
     "output_type": "stream",
     "text": [
      "Done\n"
     ]
    }
   ],
   "source": [
    "print(\"Done\")"
   ]
  },
  {
   "cell_type": "code",
   "execution_count": 2,
   "metadata": {},
   "outputs": [
    {
     "name": "stdout",
     "output_type": "stream",
     "text": [
      "867604\n"
     ]
    }
   ],
   "source": [
    "import csv\n",
    "path = \"/data/crunchyroll/clip_relocation_map.tsv\"\n",
    "# Open the TSV file\n",
    "with open(path, 'r') as file:\n",
    "    # Read the TSV file using the csv reader\n",
    "    reader = csv.reader(file, delimiter='\\t')\n",
    "    \n",
    "    # Initialize an empty dictionary\n",
    "    data_dict = {}\n",
    "    \n",
    "    # Iterate over each row in the TSV file\n",
    "    for row in reader:\n",
    "        # Extract the key and value from each row\n",
    "        key = row[0]\n",
    "        value = row[1]\n",
    "        \n",
    "        # Add the key-value pair to the dictionary\n",
    "        data_dict[key] = value\n",
    "\n",
    "# Print the resulting dictionary\n",
    "print(len(data_dict))\n"
   ]
  },
  {
   "cell_type": "code",
   "execution_count": 3,
   "metadata": {},
   "outputs": [],
   "source": [
    "clip_path = \"/data/crunchyroll/audio_clips_mono_16k/\""
   ]
  },
  {
   "cell_type": "code",
   "execution_count": 4,
   "metadata": {},
   "outputs": [],
   "source": [
    "import glob\n",
    "paths = glob.glob(clip_path + \"/**/*.mp3\", recursive=True)"
   ]
  },
  {
   "cell_type": "code",
   "execution_count": 5,
   "metadata": {},
   "outputs": [],
   "source": [
    "clip_paths = \"clip_paths.txt\"\n",
    "with open(clip_paths, 'w') as file:\n",
    "    for path in paths:\n",
    "        file.write(path + \"\\n\")"
   ]
  },
  {
   "cell_type": "code",
   "execution_count": 6,
   "metadata": {},
   "outputs": [
    {
     "name": "stdout",
     "output_type": "stream",
     "text": [
      "Cromartie High School/Cromartie High School/21.0/clip_pairs_24/48.mp4 b5/b5ec61af-0809-4d7b-8650-ff97f3bbf2c4\n"
     ]
    }
   ],
   "source": [
    "for i in data_dict:\n",
    "    print(i, data_dict[i])\n",
    "    break"
   ]
  },
  {
   "cell_type": "code",
   "execution_count": 7,
   "metadata": {},
   "outputs": [],
   "source": [
    "import shutil\n",
    "import os\n",
    "def copy_file(source_path, destination_path):\n",
    "    os.makedirs(os.path.dirname(destination_path), exist_ok=True)\n",
    "    shutil.copy(source_path, destination_path)\n"
   ]
  },
  {
   "cell_type": "code",
   "execution_count": 9,
   "metadata": {},
   "outputs": [
    {
     "name": "stderr",
     "output_type": "stream",
     "text": [
      "  0%|          | 0/867604 [00:00<?, ?it/s]"
     ]
    },
    {
     "name": "stderr",
     "output_type": "stream",
     "text": [
      "100%|██████████| 867604/867604 [2:00:22<00:00, 120.13it/s]  \n"
     ]
    }
   ],
   "source": [
    "import tqdm\n",
    "for i in tqdm.tqdm(data_dict):\n",
    "    source_path = clip_path + i\n",
    "    source_path = source_path.replace(\".mp4\", \".mp3\")\n",
    "    destination_path = \"/data/crunchyroll/audio_clip_relocation/\" + data_dict[i] + \".mp3\" \n",
    "    if os.path.exists(source_path):\n",
    "        \n",
    "        copy_file(source_path, destination_path)\n"
   ]
  },
  {
   "cell_type": "code",
   "execution_count": 17,
   "metadata": {},
   "outputs": [],
   "source": [
    "import json\n",
    "with open('anim400k_annotations_split_v1.json', 'r') as file:\n",
    "    data = json.load(file)\n",
    "    \n",
    "with open('anim400k_annotations_split_v1_hold.json','w') as file:\n",
    "    json.dump(data, file, indent=2)"
   ]
  },
  {
   "cell_type": "code",
   "execution_count": 19,
   "metadata": {},
   "outputs": [
    {
     "name": "stdout",
     "output_type": "stream",
     "text": [
      "train\n",
      "val\n",
      "test\n",
      "175 11 4\n"
     ]
    }
   ],
   "source": [
    "for i in data:\n",
    "    print(i)\n",
    "train = data['train']\n",
    "val = data['val']\n",
    "test = data['test']\n",
    "print(len(train), len(val), len(test))\n",
    "   "
   ]
  },
  {
   "cell_type": "code",
   "execution_count": 28,
   "metadata": {},
   "outputs": [
    {
     "name": "stdout",
     "output_type": "stream",
     "text": [
      "c2/c24c78ce-d224-4b7a-8966-6553953c5bfa af/afc8abd8-f4da-48be-a0f4-0bd1e4c03fba\n",
      "f4/f45f8a7c-b63a-4d51-ada1-0c5ad55431bd d7/d7f7ad4e-5fcd-4ed7-9670-5bdde337edaa\n",
      "f7/f79bc19c-4f6e-4ebf-b9a6-db154b584a4c 4e/4e8b2f53-222b-479b-8d48-d37129be351b\n",
      "6c/6c6f9473-da65-4e15-8111-bea77c8b00c7 d7/d7dc9eed-e30d-4df9-981c-601eb89eca73\n",
      "88/88c43a6e-351c-40a8-9e1a-dfe8b93c994b 0b/0bc5473b-664d-445a-8a65-3cb4c2a84ac3\n",
      "9a/9a60634a-738f-48d1-9454-75834a4872cd 47/474623e9-ecc8-4241-a3ef-04361521fcdc\n",
      "04/049ef4ec-cd77-4422-aab7-8ce105dce923 ae/ae54b736-38ad-4cee-b857-8af9efbd06d3\n",
      "f1/f1ea2e4b-a6d3-4c4f-b578-354b88eedd5d 35/353bc819-a6c7-4053-803d-2833e7926b90\n",
      "e2/e23b5928-10a7-466f-bcfd-a7cf9c083373 1d/1db5103d-193b-4da0-9931-0f14c731b571\n",
      "f1/f1a7a3bc-be35-41fa-a0bf-68041de6f8bf 7b/7b02856b-b13e-496b-a365-5e2955c1d60f\n",
      "59/592a83f2-1956-41e1-9096-aac4ba0f49d2 0f/0fd9e5b9-d60d-4bc0-a698-1adf768048b9\n",
      "44/44978da9-fd29-476e-b9e5-1d267e26db31 54/548b1789-0d4a-4ddf-af03-8561e72581f9\n",
      "b4/b47ce8c1-2b2a-4c49-8a49-d372b23cc706 21/21695733-5b5c-483c-aed6-800c0dabd5a5\n",
      "64/6427e555-f76e-4715-948a-5b5cfcb73699 49/4904b518-9763-4636-9733-0f980a3fa184\n",
      "36/3641fab2-8ba0-4d46-b8b1-2d6532af5d6f a8/a8b93e66-d040-4ec1-908d-a2bd8aae78e4\n",
      "c1/c159f7b8-a768-4e48-8b4c-94ca161beb35 60/60850ce2-7388-46df-b757-c5d0a104ba96\n",
      "46/46fd0a00-b28e-4b6c-a108-3f00e8f3435d 11/114ee8fd-edbe-4acf-a9fe-81549888316d\n",
      "05/05154803-15aa-4afd-89e9-4612b449e617 6b/6b2abf74-f327-4809-8b96-0382daa77c9c\n",
      "31/31b1898b-28c3-49c7-a091-854a640fd692 25/256f2bf5-43a2-48b8-a2fa-8b08d8b46aca\n",
      "e6/e6d574c9-e198-4c5b-bc53-b6c8a393c9ba 44/44e41de6-81fd-4728-a32c-740ae1f1268c\n",
      "9d/9d8e1c9b-bdf9-413f-add7-f3e34559a749 f2/f2a5a023-15d5-4903-9c2a-5a97727bdb94\n",
      "a4/a4e82465-1af6-45e3-825f-894eaddfc44b 77/77638f3d-cc1e-4c71-baec-25f6b3034efc\n",
      "04/04ef5a4e-693a-4d17-875e-db7747be3761 2c/2cb6d85d-8f8e-4fc8-937c-12bdd4a58069\n",
      "8e/8e2f5dd7-82e6-413d-b859-d8c44578924a a8/a831e65a-5400-404d-baef-709fa1598b3f\n",
      "b5/b5ec61af-0809-4d7b-8650-ff97f3bbf2c4 77/77b4659f-e844-480b-ac35-a005274e5938\n",
      "c0/c08afdeb-2de9-48da-8f1c-af4815c6b0b4 24/24d4d356-db70-40f1-a1eb-6617f6af7058\n",
      "9c/9ca6c9e6-3189-4c92-a137-84ad6b3d33fa d5/d5b29609-458e-47f3-b6ff-c5442d83185a\n",
      "7d/7d70f84a-c66e-4638-bd10-28cbe6b54b8b c1/c146890f-8311-4406-9ce3-a8758344b1c1\n",
      "6b/6baeefd3-833f-4702-906e-b09b4c446dfc 08/08caae12-ab79-4aec-946b-58f06f7eb422\n",
      "76/76c65da6-b09d-4015-ad82-9fbe1a1755da 3b/3bebfa05-1bf3-4fc0-8362-fcd012c80dd1\n",
      "74/741ecf0b-0ab8-4b0b-8760-f9609723b000 c2/c26b2619-6ff2-4336-a4be-2a7c6f5bc7e9\n",
      "30/303ba9cb-6924-4620-8edb-f7f612315819 85/855d0c20-9395-4ac9-830d-276522310ad4\n",
      "bc/bccb412c-0f7d-4d30-9d63-85f5deca7ce6 04/04d8df7a-6ae3-46e6-a6e9-09385a2b943f\n",
      "0a/0a42ff7c-bea5-44de-afd5-1ad37bfdccd4 be/be08a90c-ced5-4769-a683-628756bcc956\n",
      "94/94d52e67-439e-47e5-9615-227804a493cf cc/cc794c42-c9bf-46f4-8207-35070f905d85\n",
      "90/9082cce9-3826-4aea-9289-c3cff774cb05 30/30550f7c-f214-45c9-850f-5b2b8bde292f\n",
      "55/55c3640d-8125-4c04-b2a8-0ab9bb436bd2 f8/f895ec00-3f7c-4ddb-ab49-7918c07f4104\n",
      "7f/7ff43b56-9274-411a-9729-2ad80613e1bb ab/abab31b3-83a3-42a0-8638-4404c5c5275e\n",
      "0c/0c0f3cbb-76e4-4a83-b636-905da1eb2feb b2/b2a04d85-e991-497c-8604-da9b5bf1f44c\n",
      "64/64ecd1af-5bb5-4f0f-8f59-334f6a693799 9e/9e2f2d23-1d0c-43ca-900f-4f822105d2e8\n"
     ]
    }
   ],
   "source": [
    "for i in train:\n",
    "    for j in i['episodes']:\n",
    "        for k in i['episodes'][j]['clips']:\n",
    "            print(k['jp_clip'], k['en_clip'])\n",
    "        break\n",
    "    break"
   ]
  },
  {
   "cell_type": "code",
   "execution_count": 34,
   "metadata": {},
   "outputs": [
    {
     "name": "stdout",
     "output_type": "stream",
     "text": [
      "14823\n",
      "['46/465b52f0-b368-47fd-bbcc-08c89d99fdbe', 'b9/b9b8f2c4-3009-4f50-9152-81188bd4dfea']\n"
     ]
    }
   ],
   "source": [
    "mode = 'val'\n",
    "path = 'anim400k_annotations_split_v1.json'\n",
    "data = json.load(open(path, 'r'))\n",
    "\n",
    "if mode not in [\"train\", \"val\", \"test\"]:\n",
    "    raise ValueError(\"mode must be 'train' or 'val' or 'test'\")\n",
    "\n",
    "data = data[mode]\n",
    "\n",
    "clips = []\n",
    "for show in data:\n",
    "    eps = show['episodes']\n",
    "    for ep_num in eps:\n",
    "        ep = eps[ep_num]\n",
    "        for clip in ep['clips']:\n",
    "            clips.append([clip['jp_clip'], clip['en_clip']])\n",
    "print(len(clips))\n",
    "print(clips[0])"
   ]
  },
  {
   "cell_type": "code",
   "execution_count": 8,
   "metadata": {},
   "outputs": [
    {
     "name": "stdout",
     "output_type": "stream",
     "text": [
      "False\n"
     ]
    }
   ],
   "source": [
    "a = \"48/48d00b0d-e849-4e1c-a75c-c1ae41a6e347\"\n",
    "print(a in data_dict.values())"
   ]
  },
  {
   "cell_type": "code",
   "execution_count": null,
   "metadata": {},
   "outputs": [],
   "source": []
  }
 ],
 "metadata": {
  "kernelspec": {
   "display_name": "speecht5",
   "language": "python",
   "name": "python3"
  },
  "language_info": {
   "codemirror_mode": {
    "name": "ipython",
    "version": 3
   },
   "file_extension": ".py",
   "mimetype": "text/x-python",
   "name": "python",
   "nbconvert_exporter": "python",
   "pygments_lexer": "ipython3",
   "version": "3.8.18"
  }
 },
 "nbformat": 4,
 "nbformat_minor": 2
}
