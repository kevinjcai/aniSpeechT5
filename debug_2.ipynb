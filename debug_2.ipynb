{
 "cells": [
  {
   "cell_type": "code",
   "execution_count": 9,
   "metadata": {},
   "outputs": [],
   "source": [
    "import numpy as np\n",
    "from pydub import AudioSegment\n",
    "\n",
    "def save_numpy_as_mp3(numpy_array, sample_rate, file_name):\n",
    "    \"\"\"\n",
    "    Save a numpy array as an MP3 file.\n",
    "\n",
    "    :param numpy_array: Numpy array containing audio data.\n",
    "    :param sample_rate: Sample rate of the audio data.\n",
    "    :param file_name: File name to save the audio to (including the '.mp3' extension).\n",
    "    \"\"\"\n",
    "    # Ensure that the numpy array is in int16 format\n",
    "    numpy_array = np.int32(numpy_array)\n",
    "\n",
    "    # Create an audio segment\n",
    "    audio_segment = AudioSegment(\n",
    "        numpy_array.tobytes(), \n",
    "        frame_rate=sample_rate,\n",
    "        sample_width=numpy_array.dtype.itemsize, \n",
    "        channels=1\n",
    "    )\n",
    "\n",
    "    # Export to MP3\n",
    "    audio_segment.export(file_name, format='mp3')\n",
    "\n",
    "# Example usage:\n"
   ]
  },
  {
   "cell_type": "code",
   "execution_count": 17,
   "metadata": {},
   "outputs": [
    {
     "name": "stdout",
     "output_type": "stream",
     "text": [
      "(160256,)\n",
      "-0.013820846\n",
      "-1.0\n",
      "0.10388463\n"
     ]
    }
   ],
   "source": [
    "audio = np.load(\"spec_to_wave.npy\")[0,:]\n",
    "print(audio.shape)\n",
    "print(min(audio))\n",
    "audio = audio/max(audio)\n",
    "audio = -audio/min(audio)\n",
    "print(min(audio))\n",
    "print(max(audio))\n",
    "save_numpy_as_mp3(audio, 16000, 'output.mp3')"
   ]
  },
  {
   "cell_type": "code",
   "execution_count": null,
   "metadata": {},
   "outputs": [],
   "source": []
  },
  {
   "cell_type": "code",
   "execution_count": null,
   "metadata": {},
   "outputs": [],
   "source": []
  }
 ],
 "metadata": {
  "kernelspec": {
   "display_name": "speecht5",
   "language": "python",
   "name": "python3"
  },
  "language_info": {
   "codemirror_mode": {
    "name": "ipython",
    "version": 3
   },
   "file_extension": ".py",
   "mimetype": "text/x-python",
   "name": "python",
   "nbconvert_exporter": "python",
   "pygments_lexer": "ipython3",
   "version": "3.9.16"
  }
 },
 "nbformat": 4,
 "nbformat_minor": 2
}
